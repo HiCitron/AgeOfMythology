{
 "cells": [
  {
   "attachments": {},
   "cell_type": "markdown",
   "metadata": {},
   "source": [
    "# Age Of Mythology - XML editor"
   ]
  },
  {
   "attachments": {},
   "cell_type": "markdown",
   "metadata": {},
   "source": [
    "#### Pre-requisites"
   ]
  },
  {
   "cell_type": "code",
   "execution_count": 1,
   "metadata": {},
   "outputs": [
    {
     "name": "stdout",
     "output_type": "stream",
     "text": [
      "Found techtree2.8.xml and proto2.8.xml in ./xml/original\n"
     ]
    }
   ],
   "source": [
    "# External modules\n",
    "import importlib\n",
    "\n",
    "# Internal modules\n",
    "import main; importlib.reload(main) # Jupyter force-reload module\n",
    "import main\n",
    "# load_aom_xml, display_xml_element, display_xml_tree, get_parent, SubElement, fromstring, Tech, Age, Culture, Relativity\n",
    "\n",
    "\n",
    "# Load AOM XML files, from source directory on the first time\n",
    "# ROOT_DIR = '/mnt/c/Program Files (x86)/Steam/steamapps/common/Age of Mythology/data'\n",
    "ROOT_DIR = './xml/original'\n",
    "VERSION = 2.8\n",
    "techtree, proto = main.load_aom_xml(ROOT_DIR, VERSION)"
   ]
  },
  {
   "attachments": {},
   "cell_type": "markdown",
   "metadata": {},
   "source": [
    "## I - Explore the tree"
   ]
  },
  {
   "cell_type": "code",
   "execution_count": 2,
   "metadata": {},
   "outputs": [
    {
     "name": "stdout",
     "output_type": "stream",
     "text": [
      "(x  1)   <techtree version=5> \n",
      "(x616)     <tech name=Age 1 type=Normal> \n",
      "(x  2)       <flag > AgeUpgrade\n",
      "(x  1)       <status > ACTIVE\n",
      "(x  1)       <researchpoints > 0.0000\n",
      "(x  1)       <effects > \n",
      "(x 12)         <effect type=Data amount=0.00 subtype=MinimumResourceTrickleRate resource=Favor relativity=Absolute> \n",
      "(x  1)       <displaynameid > 10850\n",
      "(x  1)       <delay > 0.0100\n",
      "(x  1)       <dbid > 64\n"
     ]
    }
   ],
   "source": [
    "# Display techtree structure: consists of 744 tech tags (researchable upgrades and god powers)\n",
    "main.display_xml_tree(techtree.getroot(), max_level=5)"
   ]
  },
  {
   "cell_type": "code",
   "execution_count": 3,
   "metadata": {},
   "outputs": [
    {
     "name": "stdout",
     "output_type": "stream",
     "text": [
      "(x  1)   <proto version=4> \n",
      "(x935)     <unit id=0 name=Hawk> \n",
      "(x 15)       <unittype > LogicalTypeSuperPredatorsAutoAttack\n",
      "(x  9)       <flag > DoNotShowOnMiniMap\n",
      "(x  1)       <turnrate > 18.0000\n",
      "(x  1)       <portraiticon > World Hawk Icon 64\n",
      "(x  1)       <obstructionradiusz > 0.0500\n",
      "(x  1)       <obstructionradiusx > 0.0500\n",
      "(x  1)       <movementtype > air\n",
      "(x  1)       <minimapcolor red=0.5400 blue=0.0000 green=0.3100> \n",
      "(x  1)       <maxvelocity > 4.8000\n",
      "(x  1)       <maxhitpoints > 20.0000\n",
      "(x  1)       <los > 12.0000\n",
      "(x  1)       <initialhitpoints > 20.0000\n",
      "(x  1)       <icon > World Hawk Icon 64\n",
      "(x  1)       <heightbob period=6.0000 magnitude=2.0000> \n",
      "(x  1)       <displaynameid > 18794\n",
      "(x  1)       <dbid > 660\n",
      "(x  1)       <bountyfactor resourcetype=Favor> 1.0000\n",
      "(x  1)       <action name=Move> \n",
      "(x  1)         <param name=Persistent> \n"
     ]
    }
   ],
   "source": [
    "# Display proto xml tree: consists of 935+ units tags (units, buildings, entities, etc)\n",
    "main.display_xml_tree(proto.getroot(), max_level=5)"
   ]
  },
  {
   "attachments": {},
   "cell_type": "markdown",
   "metadata": {},
   "source": [
    "## II - Looking close at an example, Guard Towers"
   ]
  },
  {
   "cell_type": "code",
   "execution_count": 4,
   "metadata": {},
   "outputs": [
    {
     "name": "stdout",
     "output_type": "stream",
     "text": [
      "['Snow Drift Tower', 'Tower Mirror Focuser', 'Siege Tower', 'Tower', 'Tower Mirror', 'Odins Tower']\n",
      "(x  1)   <unit id=469 name=Tower> \n",
      "(x 28)     <unittype > LogicalTypeVolcanoAttack\n",
      "(x 13)     <flag > ObscuresUnits\n",
      "(x  8)     <tech row=0 page=1 column=2> Crenellations\n",
      "(x  8)     <contain > Ox Cart\n",
      "(x  3)     <armor damagetype=Hack percentflag=1> 0.30\n",
      "(x  3)     <action name=HandAttack> \n",
      "(x  6)       <param name=MaximumRange value1=4> \n",
      "(x  2)     <speedupconstructioncost resourcetype=Wood> 100.0\n",
      "(x  2)     <cost resourcetype=Wood> 200.0000\n",
      "(x  2)     <bounty resourcetype=Favor> 4.3200\n",
      "(x  1)     <unitaitype > RangedCombative\n",
      "(x  1)     <soundvariant > Pierce\n",
      "(x  1)     <rolloverupgradeatid > 17747\n",
      "(x  1)     <rollovertextid > 16531\n",
      "(x  1)     <rollovercounterwithid > 17703\n",
      "(x  1)     <projectileprotounit > Arrow\n",
      "(x  1)     <portraiticon > Building Sentry Tower Icon 64\n",
      "(x  1)     <partisantype > Militia\n",
      "(x  1)     <partisancount > 1\n",
      "(x  1)     <obstructionradiusz > 1.0000\n",
      "(x  1)     <obstructionradiusx > 1.0000\n",
      "(x  1)     <movementtype > land\n",
      "(x  1)     <maxvelocity > 0.0000\n",
      "(x  1)     <maxhitpoints > 550.0000\n",
      "(x  1)     <maxcontained > 5\n",
      "(x  1)     <los > 24.0000\n",
      "(x  1)     <initialhitpoints > 550.0000\n",
      "(x  1)     <icon > Building Sentry Tower Icon\n",
      "(x  1)     <displaynameid > 16873\n",
      "(x  1)     <decay delay=0.0000 duration=0.5000> \n",
      "(x  1)     <deadreplacement > Destruction 1x1\n",
      "(x  1)     <dbid > 2139\n",
      "(x  1)     <buttonpos row=1 page=2 column=1> \n",
      "(x  1)     <buildpoints > 50.0000\n",
      "(x  1)     <buildlimit > 20\n",
      "(x  1)     <buildingworkrate > 1.0000\n",
      "(x  1)     <bountyfactor resourcetype=Favor> 1.0000\n",
      "(x  1)     <allowedheightvariance > 4.0000\n",
      "(x  1)     <allowedage > 2\n"
     ]
    }
   ],
   "source": [
    "# Finding the tower unit\n",
    "matching_units = [unit for unit in proto.findall('unit') if 'tower' in unit.get('name', '').lower()]\n",
    "print([unit.get('name', '') for unit in matching_units])\n",
    "main.display_xml_tree(proto.find('unit[@name=\"Tower\"]'))"
   ]
  },
  {
   "cell_type": "code",
   "execution_count": 5,
   "metadata": {},
   "outputs": [
    {
     "name": "stdout",
     "output_type": "stream",
     "text": [
      "(x  1)   <cost resourcetype=Wood> 200.0000\n",
      "(x  1)   <cost resourcetype=Gold> 100.0000\n",
      "(x  1)   <maxhitpoints > 550.0000\n",
      "(x  1)   <action name=HandAttack> \n",
      "(x  6)     <param name=MaximumRange value1=4> \n",
      "(x  1)   <action name=RangedAttack> \n",
      "(x 20)     <param name=MaximumRange value1=20> \n",
      "(x  1)   <action name=Enter> \n",
      "(x  1)     <param name=MaximumRange value1=6> \n",
      "(x  1)   <armor damagetype=Hack percentflag=1> 0.30\n",
      "(x  1)   <armor damagetype=Pierce percentflag=1> 0.85\n",
      "(x  1)   <armor damagetype=Crush percentflag=1> 0.05\n",
      "(x  1)   <los > 24.0000\n",
      "(x  1)   <tech row=0 page=1 column=2> Crenellations\n",
      "(x  1)   <tech row=0 page=1 column=0> Carrier Pigeons\n",
      "(x  1)   <tech row=0 page=1 column=1> Guard Tower\n",
      "(x  1)   <tech row=0 page=1 column=1> Ballista Tower\n",
      "(x  1)   <tech row=0 page=1 column=1> Watch Tower\n",
      "(x  1)   <tech row=1 page=1 column=1> Safeguard\n",
      "(x  1)   <tech row=0 page=1 column=3> Boiling Oil\n",
      "(x  1)   <tech row=0 page=1 column=0> Signal Fires\n"
     ]
    }
   ],
   "source": [
    "# Exploring its properties and techs\n",
    "main.display_xml_tree(proto.findall('unit[@name=\"Tower\"]/cost')) # building cost\n",
    "main.display_xml_tree(proto.findall('unit[@name=\"Tower\"]/maxhitpoints')) # max hitpoints\n",
    "main.display_xml_tree(proto.findall('unit[@name=\"Tower\"]/action')) # attack abilities\n",
    "main.display_xml_tree(proto.findall('unit[@name=\"Tower\"]/armor')) # Slashing, piercing, and crushing armor\n",
    "main.display_xml_tree(proto.findall('unit[@name=\"Tower\"]/los')) # Line of sight\n",
    "main.display_xml_tree(proto.findall('unit[@name=\"Tower\"]/tech'))"
   ]
  },
  {
   "cell_type": "code",
   "execution_count": 6,
   "metadata": {},
   "outputs": [
    {
     "name": "stdout",
     "output_type": "stream",
     "text": [
      "(x  1) <tech name=Crenellations type=Normal> \n",
      "(x  1)   <cost resourcetype=Food> 150.0000\n",
      "(x  1)   <effect type=TextOutput> -1\n",
      "(x  1)   <effect type=Data action=RangedAttack amount=10.00 subtype=TrackRating relativity=Assign> \n",
      "(x  1)   <effect type=Data action=RangedAttack amount=2.00 subtype=DamageBonus unittype=AbstractCavalry relativity=Assign> \n",
      "(x  1)   <effect type=Data action=RangedAttack amount=2.00 subtype=DamageBonus unittype=Lancer Hero relativity=Assign> \n",
      "(x  1)   <effect type=Data action=RangedAttack amount=10.00 subtype=TrackRating relativity=Assign> \n",
      "(x  1)   <effect type=Data action=RangedAttack amount=10.00 subtype=TrackRating relativity=Assign> \n",
      "(x  1) <tech name=Carrier Pigeons type=Normal> \n",
      "(x  1)   <cost resourcetype=Wood> 400.0000\n",
      "(x  1)   <effect type=TextOutput> 11487\n",
      "(x  1)   <effect type=Data amount=6.00 subtype=LOS relativity=Absolute> \n",
      "(x  1) <tech name=Guard Tower type=Normal> \n",
      "(x  1)   <cost resourcetype=Wood> 300.0000\n",
      "(x  1)   <effect type=TextOutput> 11281\n",
      "(x  1)   <effect type=Data amount=300.00 subtype=Hitpoints relativity=Absolute> \n",
      "(x  1)   <effect type=Data action=RangedAttack amount=1.40 subtype=Damage damagetype=Pierce relativity=BasePercent> \n",
      "(x  1)   <effect type=SetName proto=Tower culture=none newname=11439> \n",
      "(x  1)   <effect type=Data action=HandAttack amount=1.40 subtype=Damage damagetype=Pierce relativity=BasePercent> \n",
      "(x  1) <tech name=Ballista Tower type=Normal> \n",
      "(x  1)   <cost resourcetype=Food> 500.0000\n",
      "(x  1)   <effect type=TextOutput> 11282\n",
      "(x  1)   <effect type=Data action=RangedAttack amount=1.33 subtype=Damage damagetype=Pierce relativity=BasePercent> \n",
      "(x  1)   <effect type=SetName proto=Tower culture=Egyptian newname=11065> \n",
      "(x  1)   <effect type=Data amount=300.00 subtype=Hitpoints relativity=Absolute> \n",
      "(x  1)   <effect type=Data action=HandAttack amount=1.33 subtype=Damage damagetype=Pierce relativity=BasePercent> \n",
      "(x  1) <tech name=Watch Tower type=Normal> \n",
      "(x  1)   <cost resourcetype=Wood> 200.0000\n",
      "(x  1)   <effect type=Data action=RangedAttack amount=1.00 subtype=ActionEnable relativity=Absolute> \n",
      "(x  1)   <effect type=SetName proto=Tower culture=none newname=11210> \n",
      "(x  1)   <effect type=Data amount=6.00 subtype=LOS relativity=Absolute> \n",
      "(x  1) <tech name=Safeguard type=Normal> \n",
      "(x  1)   <cost resourcetype=Wood> 200.0000\n",
      "(x  1)   <effect type=TextOutput> 11295\n",
      "(x  1)   <effect type=Data amount=2.00 subtype=Hitpoints relativity=BasePercent> \n",
      "(x  1)   <effect type=Data amount=2.00 subtype=Hitpoints relativity=BasePercent> \n",
      "(x  1)   <effect type=Data amount=0.75 subtype=Cost resource=Wood relativity=Percent> \n",
      "(x  1)   <effect type=Data amount=0.75 subtype=Cost resource=Gold relativity=Percent> \n",
      "(x  1) <tech name=Boiling Oil type=Normal> \n",
      "(x  1)   <cost resourcetype=Food> 100.0000\n",
      "(x  1)   <effect type=TextOutput> 11283\n",
      "(x  1)   <effect type=Data action=HandAttack amount=1.00 subtype=ActionEnable relativity=Absolute> \n",
      "(x  1)   <effect type=Data action=HandAttack amount=1.00 subtype=ActionEnable relativity=Absolute> \n",
      "(x  1)   <effect type=Data action=HandAttack amount=1.00 subtype=ActionEnable relativity=Absolute> \n",
      "(x  1)   <effect type=Data action=HandAttack amount=1.00 subtype=ActionEnable relativity=Absolute> \n",
      "(x  1)   <effect type=Data action=HandAttack amount=1.00 subtype=ActionEnable relativity=Absolute> \n",
      "(x  1)   <effect type=Data action=HandAttack amount=1.00 subtype=ActionEnable relativity=Absolute> \n",
      "(x  1)   <effect type=Data action=HandAttack amount=1.00 subtype=ActionEnable relativity=Absolute> \n",
      "(x  1) <tech name=Signal Fires type=Normal> \n",
      "(x  1)   <cost resourcetype=Wood> 150.0000\n",
      "(x  1)   <effect type=TextOutput> 11284\n",
      "(x  1)   <effect type=Data amount=6.00 subtype=LOS relativity=Absolute> \n"
     ]
    }
   ],
   "source": [
    "# Exploring the techs deeper\n",
    "for tech in proto.findall('unit[@name=\"Tower\"]/tech'):\n",
    "    source_tech = techtree.find(f'tech[@name=\"{tech.text}\"]')\n",
    "    main.display_xml_element(source_tech)\n",
    "    main.display_xml_tree(source_tech.find('cost'))\n",
    "    main.display_xml_tree(source_tech.findall('effects/effect'), max_level=0)\n",
    "    "
   ]
  },
  {
   "attachments": {},
   "cell_type": "markdown",
   "metadata": {},
   "source": [
    "## III. Creating tower upgrades"
   ]
  },
  {
   "cell_type": "code",
   "execution_count": 7,
   "metadata": {},
   "outputs": [
    {
     "name": "stdout",
     "output_type": "stream",
     "text": [
      "<tech name=\"Tower Defense\" type=\"Normal\">\n",
      "  <displaynameid>11128</displaynameid>\n",
      "  <rollovertextid>10725</rollovertextid>\n",
      "  <icon>improvement guard tower icon</icon>\n",
      "  <researchpoints>0</researchpoints>\n",
      "  <status>OBTAINABLE</status>\n",
      "  <prereqs>\n",
      "    <specificage>Classical Age</specificage>\n",
      "    <techstatus status=\"Active\">Guard Tower</techstatus>\n",
      "  </prereqs>\n",
      "  <effects>\n",
      "    <effect type=\"Data\" subtype=\"los\" amount=\"5\" relativity=\"Absolute\">\n",
      "      <target type=\"ProtoUnit\">Tower</target>\n",
      "    </effect>\n",
      "    <effect type=\"Data\" subtype=\"MaximumRange\" amount=\"5\" relativity=\"Absolute\" damageType=\"Pierce\" action=\"RangedAttack\">\n",
      "      <target type=\"ProtoUnit\">Tower</target>\n",
      "    </effect>\n",
      "  </effects>\n",
      "</tech>\n"
     ]
    }
   ],
   "source": [
    "# Creating the tech generator for an upgrade that costs 100 wood and 20 research points\n",
    "newtech = main.Tech(techtree=techtree, proto=proto, name='Tower Defense', cost=[0, 0, 0, 0], researchpoints=0)\n",
    "\n",
    "# Generating it from the guard tower template to improve line of sight and maximum range\n",
    "newtech.generate_tech('tech[@name=\"Guard Tower\"]'\n",
    ").add_prereq_age(main.Age.Classical # Must have reached Classical Age first\n",
    ").add_prereq_tech('Guard Tower'     # Must have research Guard Tower first\n",
    ").add_effect('unit[@name=\"Tower\"]', 'los', 5, main.Relativity.Absolute\n",
    ").add_effect('unit[@name=\"Tower\"]', 'MaximumRange', 5, main.Relativity.Absolute, 'RangedAttack', damageType='Pierce'\n",
    ").add_to_unit_menu('unit[@name=\"Tower\"]', 2, 0) # Add the upgrade on the third row and first column of the tower menu\n",
    "\n",
    "# Displaying the new tech tree\n",
    "main.print_element(newtech.tech)"
   ]
  },
  {
   "attachments": {},
   "cell_type": "markdown",
   "metadata": {},
   "source": [
    "## IV. Turning the game into a tower defense game"
   ]
  },
  {
   "cell_type": "code",
   "execution_count": 8,
   "metadata": {},
   "outputs": [
    {
     "name": "stdout",
     "output_type": "stream",
     "text": [
      "Found techtree2.8.xml and proto2.8.xml in ./xml/original\n",
      "Successfully backed up XML files to xml/backup\n",
      "Successfully exported injected XML files to xml/export\n"
     ]
    }
   ],
   "source": [
    "levels = 'I,II,III,IV,V,VI,VII,VIII,IX,X,XI,XII,XIII,XIV,XV,XVI,XVII,XVIII,XIX,XX'.split(',')\n",
    "\n",
    "class TowerDefense(main.AOMXMLInjector):\n",
    "    \n",
    "    def inject(self):\n",
    "        N = 10\n",
    "        for i in range(1, N+1):\n",
    "            # Precompute cost and previous tech\n",
    "            cost = 100 * i\n",
    "            percentage_boost = 1.10\n",
    "            \n",
    "            # Fortified Tower tree: boosts hitpoints and damage in exchange for food\n",
    "            fortified = main.Tech(\n",
    "                techtree=self.techtree,\n",
    "                proto=self.proto,\n",
    "                name=f'Fortified Tower {levels[i-1]}',\n",
    "                cost=[cost, 0, 0, 0],\n",
    "                researchpoints=10\n",
    "            ).generate_tech('tech[@name=\"Safeguard\"]'\n",
    "            ).add_effect('unit[@name=\"Tower\"]', 'Hitpoints',        percentage_boost, main.Relativity.Percent\n",
    "            ).add_effect('unit[@name=\"Tower\"]', 'Damage',           percentage_boost, main.Relativity.Percent, 'RangedAttack', damageType='Pierce'\n",
    "            ).add_effect('unit[@name=\"Tower\"]', 'Damage',           percentage_boost, main.Relativity.Percent, 'HandAttack', damageType='Pierce'\n",
    "            ).add_to_unit_menu('unit[@name=\"Tower\"]', 2, 0)\n",
    "\n",
    "            # Fast Aiming Tower tree: boosts fire rate and accuracy in exchange for gold\n",
    "            fastaiming = main.Tech(\n",
    "                techtree=self.techtree,\n",
    "                proto=self.proto,\n",
    "                name=f'Fast Aiming Tower {levels[i-1]}',\n",
    "                cost=[0, cost, 0, 0],\n",
    "                researchpoints=10\n",
    "            ).generate_tech('tech[@name=\"Ballista Tower\"]'\n",
    "            ).add_effect('unit[@name=\"Tower\"]', 'Rate',                            2, main.Relativity.Percent, 'RangedAttack'\n",
    "            ).add_effect('unit[@name=\"Tower\"]', 'SpreadFactor',   1/percentage_boost, main.Relativity.Percent, 'RangedAttack'\n",
    "            ).add_effect('unit[@name=\"Tower\"]', 'Accuracy',      1/(1 - i*0.1/(N+1)), main.Relativity.Percent, 'RangedAttack'\n",
    "            ).add_effect('unit[@name=\"Tower\"]', 'Rate',             percentage_boost, main.Relativity.Percent, 'HandAttack'\n",
    "            ).add_to_unit_menu('unit[@name=\"Tower\"]', 2, 1)\n",
    "            \n",
    "            # Ranged Archers Tower tree: boosts range and line of sight in exchange for wood\n",
    "            rangedarchers = main.Tech(\n",
    "                techtree=self.techtree,\n",
    "                proto=self.proto,\n",
    "                name=f'Ranged Archers Tower {levels[i-1]}',\n",
    "                cost=[0, 0, cost, 0],\n",
    "                researchpoints=10\n",
    "            ).generate_tech('tech[@name=\"Naval Oxybeles\"]'\n",
    "            ).add_effect('unit[@name=\"Tower\"]', 'los',              percentage_boost, main.Relativity.Percent\n",
    "            ).add_effect('unit[@name=\"Tower\"]', 'MaximumRange',     percentage_boost, main.Relativity.Percent, 'RangedAttack'\n",
    "            ).add_to_unit_menu('unit[@name=\"Tower\"]', 2, 2)\n",
    "            \n",
    "            # Arrow Rain Tower tree: boosts range and line of sight in exchange for wood\n",
    "            arrowrain = main.Tech(\n",
    "                techtree=self.techtree,\n",
    "                proto=self.proto,\n",
    "                name=f'Arrow Rain Tower {levels[i-1]}',\n",
    "                cost=[0, 0, 0, min(100,i*5)],\n",
    "                researchpoints=10\n",
    "            ).generate_tech('tech[@name=\"Champion Archers\"]'\n",
    "            ).add_effect('unit[@name=\"Tower\"]', 'NumberProjectiles',               i, main.Relativity.Absolute, 'RangedAttack'\n",
    "            ).add_effect('unit[@name=\"Tower\"]', 'Damage',           percentage_boost, main.Relativity.Percent, 'RangedAttack', damageType='Pierce'\n",
    "            ).add_to_unit_menu('unit[@name=\"Tower\"]', 2, 3)\n",
    "\n",
    "\n",
    "td = TowerDefense(ROOT_DIR, VERSION)"
   ]
  },
  {
   "cell_type": "code",
   "execution_count": null,
   "metadata": {},
   "outputs": [],
   "source": []
  }
 ],
 "metadata": {
  "kernelspec": {
   "display_name": "base",
   "language": "python",
   "name": "python3"
  },
  "language_info": {
   "codemirror_mode": {
    "name": "ipython",
    "version": 3
   },
   "file_extension": ".py",
   "mimetype": "text/x-python",
   "name": "python",
   "nbconvert_exporter": "python",
   "pygments_lexer": "ipython3",
   "version": "3.9.12"
  },
  "orig_nbformat": 4
 },
 "nbformat": 4,
 "nbformat_minor": 2
}
