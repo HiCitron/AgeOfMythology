{
 "cells": [
  {
   "attachments": {},
   "cell_type": "markdown",
   "metadata": {},
   "source": [
    "# Age Of Mythology - XML editor"
   ]
  },
  {
   "attachments": {},
   "cell_type": "markdown",
   "metadata": {},
   "source": [
    "#### Pre-requisites"
   ]
  },
  {
   "cell_type": "code",
   "execution_count": 69,
   "metadata": {},
   "outputs": [
    {
     "name": "stdout",
     "output_type": "stream",
     "text": [
      "Found techtree2.8.xml and proto2.8.xml in /mnt/c/Program Files (x86)/Steam/steamapps/common/Age of Mythology/data\n"
     ]
    }
   ],
   "source": [
    "# External modules\n",
    "import importlib\n",
    "\n",
    "# Internal modules\n",
    "import main; importlib.reload(main) # Jupyter force-reload module\n",
    "from main import load_aom_xml, display_xml_element, display_xml_tree, get_parent, SubElement, fromstring\n",
    "\n",
    "\n",
    "# Load AOM XML files\n",
    "ROOT_DIR = '/mnt/c/Program Files (x86)/Steam/steamapps/common/Age of Mythology/data'\n",
    "VERSION = 2.8\n",
    "techtree, proto = load_aom_xml(ROOT_DIR, VERSION)"
   ]
  },
  {
   "attachments": {},
   "cell_type": "markdown",
   "metadata": {},
   "source": [
    "## I - Explore the tree"
   ]
  },
  {
   "cell_type": "code",
   "execution_count": 70,
   "metadata": {},
   "outputs": [
    {
     "name": "stdout",
     "output_type": "stream",
     "text": [
      "(x  1)   <techtree version=5> \n",
      "(x616)     <tech name=Age 1 type=Normal> \n",
      "(x  2)       <flag > AgeUpgrade\n",
      "(x  1)       <status > ACTIVE\n",
      "(x  1)       <researchpoints > 0.0000\n",
      "(x  1)       <effects > \n",
      "(x 12)         <effect type=Data amount=0.00 subtype=MinimumResourceTrickleRate resource=Favor relativity=Absolute> \n",
      "(x  1)       <displaynameid > 10850\n",
      "(x  1)       <delay > 0.0100\n",
      "(x  1)       <dbid > 64\n"
     ]
    }
   ],
   "source": [
    "# Display techtree structure: consists of 744 tech tags (researchable upgrades and god powers)\n",
    "display_xml_tree(techtree.getroot(), max_level=5)"
   ]
  },
  {
   "cell_type": "code",
   "execution_count": 71,
   "metadata": {},
   "outputs": [
    {
     "name": "stdout",
     "output_type": "stream",
     "text": [
      "(x  1)   <proto version=4> \n",
      "(x935)     <unit id=0 name=Hawk> \n",
      "(x 15)       <unittype > LogicalTypeSuperPredatorsAutoAttack\n",
      "(x  9)       <flag > DoNotShowOnMiniMap\n",
      "(x  1)       <turnrate > 18.0000\n",
      "(x  1)       <portraiticon > World Hawk Icon 64\n",
      "(x  1)       <obstructionradiusz > 0.0500\n",
      "(x  1)       <obstructionradiusx > 0.0500\n",
      "(x  1)       <movementtype > air\n",
      "(x  1)       <minimapcolor red=0.5400 blue=0.0000 green=0.3100> \n",
      "(x  1)       <maxvelocity > 4.8000\n",
      "(x  1)       <maxhitpoints > 20.0000\n",
      "(x  1)       <los > 12.0000\n",
      "(x  1)       <initialhitpoints > 20.0000\n",
      "(x  1)       <icon > World Hawk Icon 64\n",
      "(x  1)       <heightbob period=6.0000 magnitude=2.0000> \n",
      "(x  1)       <displaynameid > 18794\n",
      "(x  1)       <dbid > 660\n",
      "(x  1)       <bountyfactor resourcetype=Favor> 1.0000\n",
      "(x  1)       <action name=Move> \n",
      "(x  1)         <param name=Persistent> \n"
     ]
    }
   ],
   "source": [
    "# Display proto xml tree: consists of 935+ units tags (units, buildings, entities, etc)\n",
    "display_xml_tree(proto.getroot(), max_level=5)"
   ]
  },
  {
   "attachments": {},
   "cell_type": "markdown",
   "metadata": {},
   "source": [
    "## II - Looking close at an example, Guard Towers"
   ]
  },
  {
   "cell_type": "code",
   "execution_count": 72,
   "metadata": {},
   "outputs": [
    {
     "name": "stdout",
     "output_type": "stream",
     "text": [
      "['Snow Drift Tower', 'Tower Mirror Focuser', 'Siege Tower', 'Tower', 'Tower Mirror', 'Odins Tower']\n",
      "(x  1)   <unit id=469 name=Tower> \n",
      "(x 28)     <unittype > LogicalTypeVolcanoAttack\n",
      "(x 13)     <flag > ObscuresUnits\n",
      "(x  8)     <tech row=0 page=1 column=2> Crenellations\n",
      "(x  8)     <contain > Ox Cart\n",
      "(x  3)     <armor damagetype=Hack percentflag=1> 0.30\n",
      "(x  3)     <action name=HandAttack> \n",
      "(x  6)       <param name=MaximumRange value1=4> \n",
      "(x  2)     <speedupconstructioncost resourcetype=Wood> 100.0\n",
      "(x  2)     <cost resourcetype=Wood> 200.0000\n",
      "(x  2)     <bounty resourcetype=Favor> 4.3200\n",
      "(x  1)     <unitaitype > RangedCombative\n",
      "(x  1)     <soundvariant > Pierce\n",
      "(x  1)     <rolloverupgradeatid > 17747\n",
      "(x  1)     <rollovertextid > 16531\n",
      "(x  1)     <rollovercounterwithid > 17703\n",
      "(x  1)     <projectileprotounit > Arrow\n",
      "(x  1)     <portraiticon > Building Sentry Tower Icon 64\n",
      "(x  1)     <partisantype > Militia\n",
      "(x  1)     <partisancount > 1\n",
      "(x  1)     <obstructionradiusz > 1.0000\n",
      "(x  1)     <obstructionradiusx > 1.0000\n",
      "(x  1)     <movementtype > land\n",
      "(x  1)     <maxvelocity > 0.0000\n",
      "(x  1)     <maxhitpoints > 1550.0000\n",
      "(x  1)     <maxcontained > 5\n",
      "(x  1)     <los > 24.0000\n",
      "(x  1)     <initialhitpoints > 1550.0000\n",
      "(x  1)     <icon > Building Sentry Tower Icon\n",
      "(x  1)     <displaynameid > 16873\n",
      "(x  1)     <decay delay=0.0000 duration=0.5000> \n",
      "(x  1)     <deadreplacement > Destruction 1x1\n",
      "(x  1)     <dbid > 2139\n",
      "(x  1)     <buttonpos row=1 page=2 column=1> \n",
      "(x  1)     <buildpoints > 50.0000\n",
      "(x  1)     <buildlimit > 20\n",
      "(x  1)     <buildingworkrate > 1.0000\n",
      "(x  1)     <bountyfactor resourcetype=Favor> 1.0000\n",
      "(x  1)     <allowedheightvariance > 4.0000\n",
      "(x  1)     <allowedage > 2\n"
     ]
    }
   ],
   "source": [
    "# Finding the tower unit\n",
    "matching_units = [unit for unit in proto.findall('unit') if 'tower' in unit.get('name', '').lower()]\n",
    "print([unit.get('name', '') for unit in matching_units])\n",
    "display_xml_tree(proto.find('unit[@name=\"Tower\"]'))"
   ]
  },
  {
   "cell_type": "code",
   "execution_count": 73,
   "metadata": {},
   "outputs": [
    {
     "name": "stdout",
     "output_type": "stream",
     "text": [
      "(x  1)   <cost resourcetype=Wood> 200.0000\n",
      "(x  1)   <cost resourcetype=Gold> 100.0000\n",
      "(x  1)   <maxhitpoints > 1550.0000\n",
      "(x  1)   <action name=HandAttack> \n",
      "(x  6)     <param name=MaximumRange value1=4> \n",
      "(x  1)   <action name=RangedAttack> \n",
      "(x 20)     <param name=MaximumRange value1=20> \n",
      "(x  1)   <action name=Enter> \n",
      "(x  1)     <param name=MaximumRange value1=6> \n",
      "(x  1)   <armor damagetype=Hack percentflag=1> 0.30\n",
      "(x  1)   <armor damagetype=Pierce percentflag=1> 0.85\n",
      "(x  1)   <armor damagetype=Crush percentflag=1> 0.05\n",
      "(x  1)   <los > 24.0000\n",
      "(x  1)   <tech row=0 page=1 column=2> Crenellations\n",
      "(x  1)   <tech row=0 page=1 column=0> Carrier Pigeons\n",
      "(x  1)   <tech row=0 page=1 column=1> Guard Tower\n",
      "(x  1)   <tech row=0 page=1 column=1> Ballista Tower\n",
      "(x  1)   <tech row=0 page=1 column=1> Watch Tower\n",
      "(x  1)   <tech row=1 page=1 column=1> Safeguard\n",
      "(x  1)   <tech row=0 page=1 column=3> Boiling Oil\n",
      "(x  1)   <tech row=0 page=1 column=0> Signal Fires\n"
     ]
    }
   ],
   "source": [
    "# Exploring its properties and techs\n",
    "display_xml_tree(proto.findall('unit[@name=\"Tower\"]/cost')) # building cost\n",
    "display_xml_tree(proto.findall('unit[@name=\"Tower\"]/maxhitpoints')) # max hitpoints\n",
    "display_xml_tree(proto.findall('unit[@name=\"Tower\"]/action')) # attack abilities\n",
    "display_xml_tree(proto.findall('unit[@name=\"Tower\"]/armor')) # Slashing, piercing, and crushing armor\n",
    "display_xml_tree(proto.findall('unit[@name=\"Tower\"]/los')) # Line of sight\n",
    "display_xml_tree(proto.findall('unit[@name=\"Tower\"]/tech'))"
   ]
  },
  {
   "cell_type": "code",
   "execution_count": 74,
   "metadata": {},
   "outputs": [
    {
     "name": "stdout",
     "output_type": "stream",
     "text": [
      "(x  1) <tech name=Crenellations type=Normal> \n",
      "(x  1)   <cost resourcetype=Food> 150.0000\n",
      "(x  1)   <effect type=TextOutput> -1\n",
      "(x  1)   <effect type=Data action=RangedAttack amount=10.00 subtype=TrackRating relativity=Assign> \n",
      "(x  1)   <effect type=Data action=RangedAttack amount=2.00 subtype=DamageBonus unittype=AbstractCavalry relativity=Assign> \n",
      "(x  1)   <effect type=Data action=RangedAttack amount=2.00 subtype=DamageBonus unittype=Lancer Hero relativity=Assign> \n",
      "(x  1)   <effect type=Data action=RangedAttack amount=10.00 subtype=TrackRating relativity=Assign> \n",
      "(x  1)   <effect type=Data action=RangedAttack amount=10.00 subtype=TrackRating relativity=Assign> \n",
      "(x  1) <tech name=Carrier Pigeons type=Normal> \n",
      "(x  1)   <cost resourcetype=Wood> 400.0000\n",
      "(x  1)   <effect type=TextOutput> 11487\n",
      "(x  1)   <effect type=Data amount=6.00 subtype=LOS relativity=Absolute> \n",
      "(x  1) <tech name=Guard Tower type=Normal> \n",
      "(x  1)   <cost resourcetype=Wood> 300.0000\n",
      "(x  1)   <effect type=TextOutput> 11281\n",
      "(x  1)   <effect type=Data amount=300.00 subtype=Hitpoints relativity=Absolute> \n",
      "(x  1)   <effect type=Data action=RangedAttack amount=1.40 subtype=Damage damagetype=Pierce relativity=BasePercent> \n",
      "(x  1)   <effect type=SetName proto=Tower culture=none newname=11439> \n",
      "(x  1)   <effect type=Data action=HandAttack amount=1.40 subtype=Damage damagetype=Pierce relativity=BasePercent> \n",
      "(x  1) <tech name=Ballista Tower type=Normal> \n",
      "(x  1)   <cost resourcetype=Food> 500.0000\n",
      "(x  1)   <effect type=TextOutput> 11282\n",
      "(x  1)   <effect type=Data action=RangedAttack amount=1.33 subtype=Damage damagetype=Pierce relativity=BasePercent> \n",
      "(x  1)   <effect type=SetName proto=Tower culture=Egyptian newname=11065> \n",
      "(x  1)   <effect type=Data amount=300.00 subtype=Hitpoints relativity=Absolute> \n",
      "(x  1)   <effect type=Data action=HandAttack amount=1.33 subtype=Damage damagetype=Pierce relativity=BasePercent> \n",
      "(x  1) <tech name=Watch Tower type=Normal> \n",
      "(x  1)   <cost resourcetype=Wood> 200.0000\n",
      "(x  1)   <effect type=Data action=RangedAttack amount=1.00 subtype=ActionEnable relativity=Absolute> \n",
      "(x  1)   <effect type=SetName proto=Tower culture=none newname=11210> \n",
      "(x  1)   <effect type=Data amount=6.00 subtype=LOS relativity=Absolute> \n",
      "(x  1) <tech name=Safeguard type=Normal> \n",
      "(x  1)   <cost resourcetype=Wood> 200.0000\n",
      "(x  1)   <effect type=TextOutput> 11295\n",
      "(x  1)   <effect type=Data amount=2.00 subtype=Hitpoints relativity=BasePercent> \n",
      "(x  1)   <effect type=Data amount=2.00 subtype=Hitpoints relativity=BasePercent> \n",
      "(x  1)   <effect type=Data amount=0.75 subtype=Cost resource=Wood relativity=Percent> \n",
      "(x  1)   <effect type=Data amount=0.75 subtype=Cost resource=Gold relativity=Percent> \n",
      "(x  1) <tech name=Boiling Oil type=Normal> \n",
      "(x  1)   <cost resourcetype=Food> 100.0000\n",
      "(x  1)   <effect type=TextOutput> 11283\n",
      "(x  1)   <effect type=Data action=HandAttack amount=1.00 subtype=ActionEnable relativity=Absolute> \n",
      "(x  1)   <effect type=Data action=HandAttack amount=1.00 subtype=ActionEnable relativity=Absolute> \n",
      "(x  1)   <effect type=Data action=HandAttack amount=1.00 subtype=ActionEnable relativity=Absolute> \n",
      "(x  1)   <effect type=Data action=HandAttack amount=1.00 subtype=ActionEnable relativity=Absolute> \n",
      "(x  1)   <effect type=Data action=HandAttack amount=1.00 subtype=ActionEnable relativity=Absolute> \n",
      "(x  1)   <effect type=Data action=HandAttack amount=1.00 subtype=ActionEnable relativity=Absolute> \n",
      "(x  1)   <effect type=Data action=HandAttack amount=1.00 subtype=ActionEnable relativity=Absolute> \n",
      "(x  1) <tech name=Signal Fires type=Normal> \n",
      "(x  1)   <cost resourcetype=Wood> 150.0000\n",
      "(x  1)   <effect type=TextOutput> 11284\n",
      "(x  1)   <effect type=Data amount=6.00 subtype=LOS relativity=Absolute> \n"
     ]
    }
   ],
   "source": [
    "# Exploring the techs deeper\n",
    "for tech in proto.findall('unit[@name=\"Tower\"]/tech'):\n",
    "    source_tech = techtree.find(f'tech[@name=\"{tech.text}\"]')\n",
    "    display_xml_element(source_tech)\n",
    "    display_xml_tree(source_tech.find('cost'))\n",
    "    display_xml_tree(source_tech.findall('effects/effect'), max_level=0)\n",
    "    "
   ]
  },
  {
   "attachments": {},
   "cell_type": "markdown",
   "metadata": {},
   "source": [
    "## III. Creating tower upgrades"
   ]
  },
  {
   "cell_type": "code",
   "execution_count": null,
   "metadata": {},
   "outputs": [],
   "source": [
    "templates = {\n",
    "    'base': '''\n",
    "        <tech name=\"{name}\" type=\"Normal\">\n",
    "                <dbid>{dbid}</dbid>\n",
    "                <displaynameid>{displaynameid}</displaynameid>\n",
    "                <cost resourcetype=\"Food\">{foodcost}</cost>\n",
    "                <cost resourcetype=\"Gold\">{goldcost}</cost>\n",
    "                <cost resourcetype=\"Wood\">{woodcost}</cost>\n",
    "                <cost resourcetype=\"Favor\">{favorcost}</cost>\n",
    "                <researchpoints>20.0000</researchpoints>\n",
    "                <status>OBTAINABLE</status>\n",
    "                <icon>{icon}</icon>\n",
    "                <rollovertextid>{rollovertextid}</rollovertextid>\n",
    "                <prereqs>\n",
    "                    <specificage>Classical Age</specificage>\n",
    "                    <techstatus status=\"Active\">{prereqtech}</techstatus>\n",
    "                </prereqs>\n",
    "                <effects>\n",
    "                </effects>\n",
    "    ''',\n",
    "    \n",
    "    'prereqtech': '''\n",
    "        <techstatus status=\"Active\">{techname}</techstatus>\n",
    "    ''',\n",
    "    \n",
    "    # Age: Archaic Age, Classical Age, Heroic Age, Mythic Age\n",
    "    'prereqage': '''\n",
    "        <specificage>{age}</specificage>\n",
    "    ''',\n",
    "    \n",
    "    # subtype: LOS, hitpoints\n",
    "    'effect': '''\n",
    "        <effect type=\"Data\" amount=\"{amount}\" subtype=\"{subtype}\" relativity=\"{relativity}\">\n",
    "\t\t\t<target type=\"ProtoUnit\">Tower</target>\n",
    "\t\t</effect>\n",
    "    ''',\n",
    "    \n",
    "    # attacktype: RangedAttack, HandAttack\n",
    "    # subtype: Damage, MaximalRange, MinimalRange, Rate, Accuracy, NumberProjectiles\n",
    "    'RA-effect': '''\n",
    "        <effect type=\"Data\" action=\"RangedAttack\" amount=\"{amount}\" subtype=\"{subtype}\" damagetype=\"Piecer\" relativity=\"{relativity}\">\n",
    "            <target type=\"ProtoUnit\">Tower</target>\n",
    "        </effect>\n",
    "    '''\n",
    "}\n",
    "\n",
    "# TODO: Generate tech from templates by injecting values\n",
    "# Food: RA.Damage, Hitpoints\n",
    "# Gold: RA.Rate, RA.Accuracy\n",
    "# Wood: RA.MaximalRange, LOS\n",
    "# Favor: RA.NumberProjectiles"
   ]
  },
  {
   "cell_type": "code",
   "execution_count": 75,
   "metadata": {},
   "outputs": [
    {
     "name": "stdout",
     "output_type": "stream",
     "text": [
      "(x  1)   <effect type=TextOutput> 11281\n",
      "(x  1)   <effect type=Data amount=300.00 subtype=Hitpoints relativity=Absolute> \n",
      "(x  1)     <target type=ProtoUnit> Tower\n",
      "(x  1)   <effect type=Data action=RangedAttack amount=1.40 subtype=Damage damagetype=Pierce relativity=BasePercent> \n",
      "(x  1)     <target type=ProtoUnit> Tower\n",
      "(x  1)   <effect type=SetName proto=Tower culture=none newname=11439> \n",
      "(x  1)   <effect type=Data action=HandAttack amount=1.40 subtype=Damage damagetype=Pierce relativity=BasePercent> \n",
      "(x  1)     <target type=ProtoUnit> Tower\n",
      "(x  1)   <effect type=SetBuildingAttribute building=Tower attribute=Armor value=1.0000> 1.0000\n"
     ]
    }
   ],
   "source": [
    "# Duplicate the crenellation tech and add it to the tower\n",
    "tech = techtree.find('tech[@name=\"Guard Tower\"]')\n",
    "display_xml_tree(tech.findall('effects/effect'))\n",
    "parent = get_parent(techtree, tech, nth_parent=1)\n",
    "clone = SubElement(parent, tech.tag, tech.attrib)\n",
    "SubElement(clone, 'cost', {'resourceType': 'Food'}).text = '100'\n",
    "SubElement(clone, 'status').text = 'OBTAINABLE'\n",
    "SubElement(clone, 'rollovertextid').text = '19331'\n",
    "SubElement(clone, 'researchpoints').text = '20.0000'\n",
    "prereqs = SubElement(clone, 'prereqs')\n",
    "SubElement(prereqs, 'techstatus', {'status': 'Active'}).text = 'Watch Tower'\n",
    "SubElement(prereqs, 'specificage').text = 'Classical Age'\n",
    "SubElement(clone, 'icon').text = 'improvement crenelations icon'\n",
    "SubElement(clone, 'displaynameid').text = '19330'\n",
    "SubElement(clone, 'dbid').text = '999662'\n",
    "effects = SubElement(clone, 'effects')\n",
    "SubElement(effects, 'effect', {'type': 'SetBuildingAttribute', 'building': 'Tower', 'attribute': 'Armor', 'value': '1.0000'}).text = '1.0000'\n",
    "\n",
    "display_xml_tree(clone.findall('effects/effect'))"
   ]
  },
  {
   "cell_type": "code",
   "execution_count": 76,
   "metadata": {},
   "outputs": [
    {
     "data": {
      "text/plain": [
       "<function __main__.string_to_xml_element(xml_string)>"
      ]
     },
     "execution_count": 76,
     "metadata": {},
     "output_type": "execute_result"
    }
   ],
   "source": [
    "UPGRADE_TYPES = ['hitpoints']\n",
    "def generate_tower_upgrade(upgrade_type):\n",
    "    if upgrade_type not in UPGRADE_TYPES:\n",
    "        raise ValueError(f'Invalid upgrade type: {upgrade_type}')\n",
    "    \n",
    "def string_to_xml_element(xml_string):\n",
    "    xml = fromstring('''<?xml version=\"1.0\" encoding=\"UTF-8\"?>\\n<root>\\n{xml_string}\\n</root>''')\n",
    "    return xml.getroot()\n",
    "string_to_xml_element"
   ]
  },
  {
   "cell_type": "code",
   "execution_count": null,
   "metadata": {},
   "outputs": [],
   "source": []
  },
  {
   "cell_type": "code",
   "execution_count": 77,
   "metadata": {},
   "outputs": [
    {
     "ename": "NameError",
     "evalue": "name 'ParentMap' is not defined",
     "output_type": "error",
     "traceback": [
      "\u001b[0;31m---------------------------------------------------------------------------\u001b[0m",
      "\u001b[0;31mNameError\u001b[0m                                 Traceback (most recent call last)",
      "\u001b[1;32m/home/phil/AgeOfMythology/main.ipynb Cell 15\u001b[0m in \u001b[0;36m<cell line: 1>\u001b[0;34m()\u001b[0m\n\u001b[0;32m----> <a href='vscode-notebook-cell://wsl%2Bubuntu/home/phil/AgeOfMythology/main.ipynb#X35sdnNjb2RlLXJlbW90ZQ%3D%3D?line=0'>1</a>\u001b[0m ParentMap(proto)\u001b[39m.\u001b[39mget_parent(proto\u001b[39m.\u001b[39mfind(\u001b[39m'\u001b[39m\u001b[39munit[@name=\u001b[39m\u001b[39m\"\u001b[39m\u001b[39mTower\u001b[39m\u001b[39m\"\u001b[39m\u001b[39m]\u001b[39m\u001b[39m'\u001b[39m), nth_parent\u001b[39m=\u001b[39m\u001b[39m2\u001b[39m)\n",
      "\u001b[0;31mNameError\u001b[0m: name 'ParentMap' is not defined"
     ]
    }
   ],
   "source": [
    "ParentMap(proto).get_parent(proto.find('unit[@name=\"Tower\"]'), nth_parent=2)"
   ]
  },
  {
   "cell_type": "code",
   "execution_count": null,
   "metadata": {},
   "outputs": [],
   "source": [
    "# Finding the tower related upgrades\n",
    "unit = proto.find('unit[@name=\"Tower\"]')\n",
    "\n",
    "\n",
    "\n",
    "\n",
    "# Find all targets that affect towers\n",
    "targets = [\n",
    "    target for target in techtree.findall('tech/effects/effect/target')\n",
    "    if target.attrib.get('type') == 'ProtoUnit' and target.text == tower_name\n",
    "]\n",
    "\n",
    "# Retrieve all parent tech\n",
    "techs = [get_parent(target, nth_parent=3) for target in targets]\n",
    "elements_to_df(techs)"
   ]
  },
  {
   "cell_type": "code",
   "execution_count": null,
   "metadata": {},
   "outputs": [],
   "source": [
    "# Diving deeper into the tower techs\n",
    "# TODO: Find where upgrades are associated to units, affects is something different"
   ]
  },
  {
   "cell_type": "code",
   "execution_count": null,
   "metadata": {},
   "outputs": [],
   "source": []
  },
  {
   "cell_type": "code",
   "execution_count": null,
   "metadata": {},
   "outputs": [],
   "source": []
  }
 ],
 "metadata": {
  "kernelspec": {
   "display_name": "base",
   "language": "python",
   "name": "python3"
  },
  "language_info": {
   "codemirror_mode": {
    "name": "ipython",
    "version": 3
   },
   "file_extension": ".py",
   "mimetype": "text/x-python",
   "name": "python",
   "nbconvert_exporter": "python",
   "pygments_lexer": "ipython3",
   "version": "3.9.12"
  },
  "orig_nbformat": 4
 },
 "nbformat": 4,
 "nbformat_minor": 2
}
